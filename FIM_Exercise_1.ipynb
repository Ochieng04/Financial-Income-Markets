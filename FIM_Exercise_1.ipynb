{
  "nbformat": 4,
  "nbformat_minor": 0,
  "metadata": {
    "colab": {
      "provenance": []
    },
    "kernelspec": {
      "name": "ir",
      "display_name": "R"
    },
    "language_info": {
      "name": "R"
    }
  },
  "cells": [
    {
      "cell_type": "markdown",
      "source": [
        "1. A bond offers an annual coupon rate of 4% with the interest paid\n",
        "semi-annually. The bond matures in 5 years. The market discount rate is 6%.\n",
        "Calculate the price of this bond per KES 100 par value."
      ],
      "metadata": {
        "id": "mUseE55G6cE4"
      }
    },
    {
      "cell_type": "code",
      "execution_count": 6,
      "metadata": {
        "colab": {
          "base_uri": "https://localhost:8080/",
          "height": 34
        },
        "id": "vmIGsiV-6Vt-",
        "outputId": "ecc4dd20-5611-493b-fc83-9e5e01143f60"
      },
      "outputs": [
        {
          "output_type": "display_data",
          "data": {
            "text/html": [
              "91.79"
            ],
            "text/markdown": "91.79",
            "text/latex": "91.79",
            "text/plain": [
              "[1] 91.79"
            ]
          },
          "metadata": {}
        }
      ],
      "source": [
        "coupon_rate <- .04\n",
        "discount_rate <- .06\n",
        "par_value <- 100\n",
        "coupon <- par_value*coupon_rate\n",
        "n <- 5\n",
        "# price of a coupon paid semi-annually \n",
        "price <- coupon/2 * (1 - (1 + discount_rate/2) ^ (-n * 2))/(discount_rate/2) + par_value/((1 + discount_rate) ^ (n))\n",
        "round(price, 2)"
      ]
    },
    {
      "cell_type": "markdown",
      "source": [
        "2. Suppose that the 1-year spot rate is 2%, the 2-year spot rate is 3%, and the 3-year\n",
        "spot rate 4%. Calculate the price of a 3-year 5% annual coupon paying bond, per\n",
        "KES 1,000 par value."
      ],
      "metadata": {
        "id": "6tcdSowo90t0"
      }
    },
    {
      "cell_type": "code",
      "source": [
        "sr1 <- .02\n",
        "sr2 <- .03\n",
        "sr3 <- .04\n",
        "coupon_rate <- .05\n",
        "par_value <- 1000\n",
        "coupon <- coupon_rate*par_value\n",
        "# present value of the coupon payments\n",
        "c1 <- coupon/(1 + sr1)^1\n",
        "c2 <- coupon/(1 + sr2)^2\n",
        "c3 <- coupon/(1 + sr3)^3\n",
        "# present value of the par value\n",
        "par_price <- par_value/(1 + sr3)^3\n",
        "price <- c1 + c2 + c3 + par_price\n",
        "round(price, 2)"
      ],
      "metadata": {
        "colab": {
          "base_uri": "https://localhost:8080/",
          "height": 34
        },
        "id": "4Va00Ibv8M4y",
        "outputId": "d805dc5f-a6ea-4696-8f94-c04ac14bb695"
      },
      "execution_count": 7,
      "outputs": [
        {
          "output_type": "display_data",
          "data": {
            "text/html": [
              "1029.6"
            ],
            "text/markdown": "1029.6",
            "text/latex": "1029.6",
            "text/plain": [
              "[1] 1029.6"
            ]
          },
          "metadata": {}
        }
      ]
    },
    {
      "cell_type": "markdown",
      "source": [
        "3. A bond has a face value of KES 100,000, an annual coupon rate of 5%, and a\n",
        "market discount rate of 6%. It has 20 years left until maturity. What is its price?"
      ],
      "metadata": {
        "id": "P_f1d_fwBVAZ"
      }
    },
    {
      "cell_type": "code",
      "source": [
        "price <- .05*100000 * ((1 - (1 + .06)^(-20))/.06) + 100000/((1 + 0.06)^(20))\n",
        "round(price, 2)"
      ],
      "metadata": {
        "colab": {
          "base_uri": "https://localhost:8080/",
          "height": 34
        },
        "id": "R3y6k3-lApSk",
        "outputId": "cf805bbd-0b80-46a5-9d62-dd170a2882fd"
      },
      "execution_count": 17,
      "outputs": [
        {
          "output_type": "display_data",
          "data": {
            "text/html": [
              "88530.08"
            ],
            "text/markdown": "88530.08",
            "text/latex": "88530.08",
            "text/plain": [
              "[1] 88530.08"
            ]
          },
          "metadata": {}
        }
      ]
    },
    {
      "cell_type": "markdown",
      "source": [
        "4. Calculate the price of a bond with a face value of KES 5,000, a coupon rate of\n",
        "10%, and a market discount rate of 12% pays interest quarterly, if it has 3 years\n",
        "left until maturity"
      ],
      "metadata": {
        "id": "RuWjvpa0D0kR"
      }
    },
    {
      "cell_type": "code",
      "source": [
        "price <- (.10*5000/4) * (1 - (1 + .12/4)^(-3 * 4))/(.12/4) + 5000 / (1 + .12)^3\n",
        "round(price, 2)"
      ],
      "metadata": {
        "colab": {
          "base_uri": "https://localhost:8080/",
          "height": 34
        },
        "id": "dxJlCN2WBypj",
        "outputId": "a3d79f1c-dcdc-4963-a692-1a8e31365963"
      },
      "execution_count": 23,
      "outputs": [
        {
          "output_type": "display_data",
          "data": {
            "text/html": [
              "4803.15"
            ],
            "text/markdown": "4803.15",
            "text/latex": "4803.15",
            "text/plain": [
              "[1] 4803.15"
            ]
          },
          "metadata": {}
        }
      ]
    },
    {
      "cell_type": "markdown",
      "source": [
        "5. A bond with a face value of KES 1,000, a coupon rate of 6%, and a market\n",
        "discount rate of 7% pays interest monthly. If it has 7 years left until maturity,\n",
        "what is its price?"
      ],
      "metadata": {
        "id": "2ezGHk4AFv0b"
      }
    },
    {
      "cell_type": "code",
      "source": [
        "price <- (.06*1000/12) * (1 - (1 + .07/12)^(-7 * 12))/(.07 / 12) + 1000/(1 + .07)^7\n",
        "round(price, 2)"
      ],
      "metadata": {
        "colab": {
          "base_uri": "https://localhost:8080/",
          "height": 34
        },
        "id": "_5OPQv_YETKs",
        "outputId": "43d7f934-e3e0-4064-cccd-e9d5b510c7a3"
      },
      "execution_count": 24,
      "outputs": [
        {
          "output_type": "display_data",
          "data": {
            "text/html": [
              "954.04"
            ],
            "text/markdown": "954.04",
            "text/latex": "954.04",
            "text/plain": [
              "[1] 954.04"
            ]
          },
          "metadata": {}
        }
      ]
    },
    {
      "cell_type": "markdown",
      "source": [
        "6. A bond with a face value of KES 1,000, a coupon rate of 4%, and a yield to\n",
        "maturity of 5% pays interest semi-annually. If it has 15 years left until maturity,\n",
        "what is its price?"
      ],
      "metadata": {
        "id": "bQMrou69HKxA"
      }
    },
    {
      "cell_type": "code",
      "source": [
        "price <- (.04/2)*1000 * (1 - (1 + .05/2)^(-15*2))/(.05/2) + 1000/(1 + .05)^15\n",
        "round(price, 2)"
      ],
      "metadata": {
        "colab": {
          "base_uri": "https://localhost:8080/",
          "height": 34
        },
        "id": "kG-ZuWV5Ggl3",
        "outputId": "9163c971-e151-4ae2-bb70-d3118fcbbb13"
      },
      "execution_count": 25,
      "outputs": [
        {
          "output_type": "display_data",
          "data": {
            "text/html": [
              "899.62"
            ],
            "text/markdown": "899.62",
            "text/latex": "899.62",
            "text/plain": [
              "[1] 899.62"
            ]
          },
          "metadata": {}
        }
      ]
    }
  ]
}